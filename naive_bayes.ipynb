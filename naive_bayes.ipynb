{
 "cells": [
  {
   "cell_type": "code",
   "execution_count": 10,
   "metadata": {},
   "outputs": [
    {
     "name": "stdout",
     "output_type": "stream",
     "text": [
      "Testing Accuracy Using naive_bayes is: 83.3962650994\n"
     ]
    }
   ],
   "source": [
    "import os\n",
    "import pandas as pd\n",
    "import numpy as np\n",
    "import random\n",
    "import matplotlib.pyplot as plt\n",
    "from sklearn.ensemble import RandomForestClassifier\n",
    "from sklearn.naive_bayes import GaussianNB\n",
    "from sklearn import cross_validation\n",
    "\n",
    "os.chdir(r'F:\\training\\Projects\\Vehicle_traffic_data_mining')\n",
    "df=pd.read_csv('DfTRoadSafety_Accidents_2014.csv')\n",
    "Features=pd.DataFrame([df.Number_of_Vehicles,df.Day_of_Week,df.Junction_Detail,\n",
    "           df.Speed_limit,df.Weather_Conditions,df.Road_Type,\n",
    "           df.Light_Conditions,df.Junction_Control,df.Urban_or_Rural_Area,\n",
    "           df.Accident_Severity])\n",
    "Features=Features.transpose()\n",
    "Features.head()\n",
    "ind=df.Accident_Severity==3\n",
    "Label=[]\n",
    "for i in np.array(ind):\n",
    "    if i==True:\n",
    "        Label.append(1)\n",
    "    else:\n",
    "        Label.append(0)\n",
    "Label=np.array(Label)\n",
    "Features.Accident_Severity=Label\n",
    "Features.head()\n",
    "\n",
    "trainFeatures,testFeatures,trainLabels,testLabels=cross_validation.train_test_split(Features.iloc[:,:-1],\n",
    "                                             Features.iloc[:,-1],\n",
    "                                             test_size=0.4,random_state=1)\n",
    "\n",
    "gnb = GaussianNB()\n",
    "results= gnb.fit(trainFeatures,trainLabels).predict(testFeatures)\n",
    "ind=(results==testLabels);\n",
    "ind=list(ind);\n",
    "testAcc_tree=float(ind.count(True))/float(len(testLabels));\n",
    "print 'Testing Accuracy Using naive_bayes is:',testAcc_tree*100;"
   ]
  },
  {
   "cell_type": "code",
   "execution_count": 6,
   "metadata": {},
   "outputs": [
    {
     "data": {
      "text/plain": [
       "0          True\n",
       "1          True\n",
       "2          True\n",
       "3          True\n",
       "4          True\n",
       "5          True\n",
       "6          True\n",
       "7          True\n",
       "8          True\n",
       "9          True\n",
       "10        False\n",
       "11         True\n",
       "12        False\n",
       "13         True\n",
       "14        False\n",
       "15         True\n",
       "16        False\n",
       "17         True\n",
       "18        False\n",
       "19         True\n",
       "20         True\n",
       "21         True\n",
       "22         True\n",
       "23         True\n",
       "24         True\n",
       "25        False\n",
       "26         True\n",
       "27         True\n",
       "28         True\n",
       "29         True\n",
       "          ...  \n",
       "146292    False\n",
       "146293     True\n",
       "146294     True\n",
       "146295     True\n",
       "146296     True\n",
       "146297    False\n",
       "146298     True\n",
       "146299    False\n",
       "146300     True\n",
       "146301     True\n",
       "146302     True\n",
       "146303    False\n",
       "146304     True\n",
       "146305     True\n",
       "146306     True\n",
       "146307    False\n",
       "146308     True\n",
       "146309     True\n",
       "146310    False\n",
       "146311     True\n",
       "146312     True\n",
       "146313    False\n",
       "146314     True\n",
       "146315     True\n",
       "146316     True\n",
       "146317    False\n",
       "146318     True\n",
       "146319     True\n",
       "146320    False\n",
       "146321     True\n",
       "Name: Accident_Severity, Length: 146322, dtype: bool"
      ]
     },
     "execution_count": 6,
     "metadata": {},
     "output_type": "execute_result"
    }
   ],
   "source": []
  },
  {
   "cell_type": "code",
   "execution_count": null,
   "metadata": {
    "collapsed": true
   },
   "outputs": [],
   "source": []
  }
 ],
 "metadata": {
  "kernelspec": {
   "display_name": "Python 2",
   "language": "python",
   "name": "python2"
  },
  "language_info": {
   "codemirror_mode": {
    "name": "ipython",
    "version": 2
   },
   "file_extension": ".py",
   "mimetype": "text/x-python",
   "name": "python",
   "nbconvert_exporter": "python",
   "pygments_lexer": "ipython2",
   "version": "2.7.13"
  }
 },
 "nbformat": 4,
 "nbformat_minor": 2
}
