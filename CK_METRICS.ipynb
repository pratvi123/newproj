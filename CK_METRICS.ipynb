{
 "cells": [
  {
   "cell_type": "code",
   "execution_count": 5,
   "metadata": {},
   "outputs": [
    {
     "data": {
      "text/html": [
       "<div>\n",
       "<style>\n",
       "    .dataframe thead tr:only-child th {\n",
       "        text-align: right;\n",
       "    }\n",
       "\n",
       "    .dataframe thead th {\n",
       "        text-align: left;\n",
       "    }\n",
       "\n",
       "    .dataframe tbody tr th {\n",
       "        vertical-align: top;\n",
       "    }\n",
       "</style>\n",
       "<table border=\"1\" class=\"dataframe\">\n",
       "  <thead>\n",
       "    <tr style=\"text-align: right;\">\n",
       "      <th></th>\n",
       "      <th>wmc</th>\n",
       "      <th>dit</th>\n",
       "      <th>noc</th>\n",
       "      <th>cbo</th>\n",
       "      <th>rfc</th>\n",
       "      <th>lcom</th>\n",
       "    </tr>\n",
       "  </thead>\n",
       "  <tbody>\n",
       "    <tr>\n",
       "      <th>count</th>\n",
       "      <td>125.000000</td>\n",
       "      <td>125.000000</td>\n",
       "      <td>125.000000</td>\n",
       "      <td>125.000000</td>\n",
       "      <td>125.000000</td>\n",
       "      <td>125.000000</td>\n",
       "    </tr>\n",
       "    <tr>\n",
       "      <th>mean</th>\n",
       "      <td>10.592000</td>\n",
       "      <td>2.280000</td>\n",
       "      <td>0.576000</td>\n",
       "      <td>10.432000</td>\n",
       "      <td>34.368000</td>\n",
       "      <td>69.320000</td>\n",
       "    </tr>\n",
       "    <tr>\n",
       "      <th>std</th>\n",
       "      <td>10.364406</td>\n",
       "      <td>1.280121</td>\n",
       "      <td>3.250965</td>\n",
       "      <td>14.891184</td>\n",
       "      <td>29.020998</td>\n",
       "      <td>259.281532</td>\n",
       "    </tr>\n",
       "    <tr>\n",
       "      <th>min</th>\n",
       "      <td>0.000000</td>\n",
       "      <td>1.000000</td>\n",
       "      <td>0.000000</td>\n",
       "      <td>0.000000</td>\n",
       "      <td>0.000000</td>\n",
       "      <td>0.000000</td>\n",
       "    </tr>\n",
       "    <tr>\n",
       "      <th>25%</th>\n",
       "      <td>4.000000</td>\n",
       "      <td>1.000000</td>\n",
       "      <td>0.000000</td>\n",
       "      <td>4.000000</td>\n",
       "      <td>15.000000</td>\n",
       "      <td>1.000000</td>\n",
       "    </tr>\n",
       "    <tr>\n",
       "      <th>50%</th>\n",
       "      <td>8.000000</td>\n",
       "      <td>2.000000</td>\n",
       "      <td>0.000000</td>\n",
       "      <td>7.000000</td>\n",
       "      <td>28.000000</td>\n",
       "      <td>6.000000</td>\n",
       "    </tr>\n",
       "    <tr>\n",
       "      <th>75%</th>\n",
       "      <td>14.000000</td>\n",
       "      <td>3.000000</td>\n",
       "      <td>0.000000</td>\n",
       "      <td>10.000000</td>\n",
       "      <td>46.000000</td>\n",
       "      <td>44.000000</td>\n",
       "    </tr>\n",
       "    <tr>\n",
       "      <th>max</th>\n",
       "      <td>71.000000</td>\n",
       "      <td>6.000000</td>\n",
       "      <td>34.000000</td>\n",
       "      <td>103.000000</td>\n",
       "      <td>186.000000</td>\n",
       "      <td>2247.000000</td>\n",
       "    </tr>\n",
       "  </tbody>\n",
       "</table>\n",
       "</div>"
      ],
      "text/plain": [
       "              wmc         dit         noc         cbo         rfc         lcom\n",
       "count  125.000000  125.000000  125.000000  125.000000  125.000000   125.000000\n",
       "mean    10.592000    2.280000    0.576000   10.432000   34.368000    69.320000\n",
       "std     10.364406    1.280121    3.250965   14.891184   29.020998   259.281532\n",
       "min      0.000000    1.000000    0.000000    0.000000    0.000000     0.000000\n",
       "25%      4.000000    1.000000    0.000000    4.000000   15.000000     1.000000\n",
       "50%      8.000000    2.000000    0.000000    7.000000   28.000000     6.000000\n",
       "75%     14.000000    3.000000    0.000000   10.000000   46.000000    44.000000\n",
       "max     71.000000    6.000000   34.000000  103.000000  186.000000  2247.000000"
      ]
     },
     "execution_count": 5,
     "metadata": {},
     "output_type": "execute_result"
    }
   ],
   "source": [
    "import pandas as pd\n",
    "import numpy as np\n",
    "from matplotlib.pyplot import matplotlib as plt\n",
    "from sklearn import preprocessing \n",
    "from sklearn import linear_model\n",
    "from sklearn import cross_validation\n",
    "df=pd.read_csv(r'E:\\ant-1.3.csv')\n",
    "target=df.bug # Output\n",
    "target=target>0\n",
    "t=[]\n",
    "for i in range(0,len(target)):\n",
    "    if target[i]==True:\n",
    "        t.append(1)\n",
    "    else:\n",
    "        t.append(0)\n",
    "t=np.array(t)\n",
    "df=pd.DataFrame([df.wmc,df.dit,df.noc,df.cbo,df.rfc,df.lcom]).T\n",
    "df.describe()"
   ]
  },
  {
   "cell_type": "code",
   "execution_count": 74,
   "metadata": {},
   "outputs": [
    {
     "data": {
      "text/html": [
       "<div>\n",
       "<style>\n",
       "    .dataframe thead tr:only-child th {\n",
       "        text-align: right;\n",
       "    }\n",
       "\n",
       "    .dataframe thead th {\n",
       "        text-align: left;\n",
       "    }\n",
       "\n",
       "    .dataframe tbody tr th {\n",
       "        vertical-align: top;\n",
       "    }\n",
       "</style>\n",
       "<table border=\"1\" class=\"dataframe\">\n",
       "  <thead>\n",
       "    <tr style=\"text-align: right;\">\n",
       "      <th></th>\n",
       "      <th>wmc</th>\n",
       "      <th>dit</th>\n",
       "      <th>noc</th>\n",
       "      <th>cbo</th>\n",
       "      <th>rfc</th>\n",
       "      <th>lcom</th>\n",
       "    </tr>\n",
       "  </thead>\n",
       "  <tbody>\n",
       "    <tr>\n",
       "      <th>count</th>\n",
       "      <td>125.000000</td>\n",
       "      <td>125.000000</td>\n",
       "      <td>125.000000</td>\n",
       "      <td>125.000000</td>\n",
       "      <td>125.000000</td>\n",
       "      <td>125.000000</td>\n",
       "    </tr>\n",
       "    <tr>\n",
       "      <th>mean</th>\n",
       "      <td>0.149183</td>\n",
       "      <td>0.256000</td>\n",
       "      <td>0.016941</td>\n",
       "      <td>0.101282</td>\n",
       "      <td>0.184774</td>\n",
       "      <td>0.030850</td>\n",
       "    </tr>\n",
       "    <tr>\n",
       "      <th>std</th>\n",
       "      <td>0.145978</td>\n",
       "      <td>0.256024</td>\n",
       "      <td>0.095617</td>\n",
       "      <td>0.144575</td>\n",
       "      <td>0.156027</td>\n",
       "      <td>0.115390</td>\n",
       "    </tr>\n",
       "    <tr>\n",
       "      <th>min</th>\n",
       "      <td>0.000000</td>\n",
       "      <td>0.000000</td>\n",
       "      <td>0.000000</td>\n",
       "      <td>0.000000</td>\n",
       "      <td>0.000000</td>\n",
       "      <td>0.000000</td>\n",
       "    </tr>\n",
       "    <tr>\n",
       "      <th>25%</th>\n",
       "      <td>0.056338</td>\n",
       "      <td>0.000000</td>\n",
       "      <td>0.000000</td>\n",
       "      <td>0.038835</td>\n",
       "      <td>0.080645</td>\n",
       "      <td>0.000445</td>\n",
       "    </tr>\n",
       "    <tr>\n",
       "      <th>50%</th>\n",
       "      <td>0.112676</td>\n",
       "      <td>0.200000</td>\n",
       "      <td>0.000000</td>\n",
       "      <td>0.067961</td>\n",
       "      <td>0.150538</td>\n",
       "      <td>0.002670</td>\n",
       "    </tr>\n",
       "    <tr>\n",
       "      <th>75%</th>\n",
       "      <td>0.197183</td>\n",
       "      <td>0.400000</td>\n",
       "      <td>0.000000</td>\n",
       "      <td>0.097087</td>\n",
       "      <td>0.247312</td>\n",
       "      <td>0.019582</td>\n",
       "    </tr>\n",
       "    <tr>\n",
       "      <th>max</th>\n",
       "      <td>1.000000</td>\n",
       "      <td>1.000000</td>\n",
       "      <td>1.000000</td>\n",
       "      <td>1.000000</td>\n",
       "      <td>1.000000</td>\n",
       "      <td>1.000000</td>\n",
       "    </tr>\n",
       "  </tbody>\n",
       "</table>\n",
       "</div>"
      ],
      "text/plain": [
       "              wmc         dit         noc         cbo         rfc        lcom\n",
       "count  125.000000  125.000000  125.000000  125.000000  125.000000  125.000000\n",
       "mean     0.149183    0.256000    0.016941    0.101282    0.184774    0.030850\n",
       "std      0.145978    0.256024    0.095617    0.144575    0.156027    0.115390\n",
       "min      0.000000    0.000000    0.000000    0.000000    0.000000    0.000000\n",
       "25%      0.056338    0.000000    0.000000    0.038835    0.080645    0.000445\n",
       "50%      0.112676    0.200000    0.000000    0.067961    0.150538    0.002670\n",
       "75%      0.197183    0.400000    0.000000    0.097087    0.247312    0.019582\n",
       "max      1.000000    1.000000    1.000000    1.000000    1.000000    1.000000"
      ]
     },
     "execution_count": 74,
     "metadata": {},
     "output_type": "execute_result"
    }
   ],
   "source": [
    "def normalize(X):\n",
    "    return (X-np.min(X))/(np.max(X)-np.min(X))\n",
    "normalized_df=df.apply(normalize)\n",
    "normalized_df.describe()"
   ]
  },
  {
   "cell_type": "code",
   "execution_count": 75,
   "metadata": {},
   "outputs": [
    {
     "data": {
      "text/plain": [
       "{0, 1}"
      ]
     },
     "execution_count": 75,
     "metadata": {},
     "output_type": "execute_result"
    }
   ],
   "source": [
    "set(t)"
   ]
  },
  {
   "cell_type": "code",
   "execution_count": 76,
   "metadata": {},
   "outputs": [
    {
     "data": {
      "text/plain": [
       "array([ 0.11891716,  0.12650339,  0.10391517, -0.10567682,  0.16221955,\n",
       "       -0.0030472 , -0.03662918,  0.43149487,  0.04520263,  0.03976828,\n",
       "        0.1970308 , -0.04584454,  0.38717508,  0.26417367,  0.13127836,\n",
       "       -0.07643997,  0.13731175,  0.27860365,  0.54633518, -0.05608154,\n",
       "        0.61277685,  0.02227764, -0.04099546,  0.71039835,  0.85752648,\n",
       "        0.38003769,  0.47609599,  0.03763054,  0.06137248,  0.1018327 ,\n",
       "       -0.16415083,  0.47076882,  0.57368109, -0.11786284,  0.36787044,\n",
       "        0.10417327,  0.26863485,  0.35061832,  0.60425849, -0.06664448,\n",
       "        0.11737972, -0.13908622, -0.00953013, -0.08425887,  0.0986774 ,\n",
       "       -0.06757695,  0.33264314,  0.08475978,  0.74893731,  0.11580499])"
      ]
     },
     "execution_count": 76,
     "metadata": {},
     "output_type": "execute_result"
    }
   ],
   "source": [
    "#multiple Linear regression using linear model\n",
    "X_train,X_test,Y_train,Y_test=cross_validation.train_test_split(df,t,test_size=0.4,random_state=1)\n",
    "\n",
    "lin_model=linear_model.LinearRegression()\n",
    "lin_model.fit(X_train,Y_train)\n",
    "lin_model.coef_\n",
    "P=lin_model.predict(X_test)\n",
    "P"
   ]
  },
  {
   "cell_type": "code",
   "execution_count": 77,
   "metadata": {},
   "outputs": [
    {
     "name": "stdout",
     "output_type": "stream",
     "text": [
      "[[38  9]\n",
      " [ 3  0]]\n"
     ]
    }
   ],
   "source": [
    "import sklearn\n",
    "from sklearn.neural_network import MLPClassifier\n",
    "from sklearn.metrics import classification_report,confusion_matrix\n",
    "mlp=MLPClassifier(hidden_layer_sizes=(20,20))\n",
    "mlp.fit(X_train,Y_train)\n",
    "P=mlp.predict(X_test)\n",
    "P\n",
    "print(confusion_matrix(P,Y_test))"
   ]
  },
  {
   "cell_type": "code",
   "execution_count": null,
   "metadata": {
    "collapsed": true
   },
   "outputs": [],
   "source": []
  },
  {
   "cell_type": "code",
   "execution_count": null,
   "metadata": {
    "collapsed": true
   },
   "outputs": [],
   "source": []
  }
 ],
 "metadata": {
  "kernelspec": {
   "display_name": "Python 2",
   "language": "python",
   "name": "python2"
  },
  "language_info": {
   "codemirror_mode": {
    "name": "ipython",
    "version": 2
   },
   "file_extension": ".py",
   "mimetype": "text/x-python",
   "name": "python",
   "nbconvert_exporter": "python",
   "pygments_lexer": "ipython2",
   "version": "2.7.13"
  }
 },
 "nbformat": 4,
 "nbformat_minor": 2
}
