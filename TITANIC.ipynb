{
 "cells": [
  {
   "cell_type": "code",
   "execution_count": null,
   "metadata": {},
   "outputs": [],
   "source": [
    "import pandas as pd\n",
    "import numpy as np\n",
    "import matplotlib.pyplot as plt\n",
    "import os\n",
    "from sklearn.ensemble import RandomForestClassifier\n",
    "os.chdir(r'F:\\training\\Projects\\Titanic')\n",
    "df=pd.read_csv('train.csv',index_col='PassengerId')\n",
    "print df.groupby('Survived').size()\n",
    "print '# of passengers:',len(df)\n",
    "print df.groupby('Sex').size()\n",
    "print df.groupby(['Sex','Survived']).size()\n",
    "\n",
    "numeric_df = df.select_dtypes(include=[np.number]).fillna(0)\n",
    "X=numeric_df[['Pclass','Age','SibSp','Parch','Fare']]\n",
    "Y=numeric_df['Survived']\n",
    "rf = RandomForestClassifier(n_estimators = 6)\n",
    "rf = rf.fit(X, Y)\n",
    "\n",
    "importances=rf.feature_importances_\n",
    "indices = np.argsort(importances)\n",
    "features=X.columns\n",
    "plt.title('Feature Importances')\n",
    "plt.barh(range(len(indices)), importances[indices], color='b', align='center')\n",
    "plt.yticks(range(len(indices)), features) ## removed [indices]\n",
    "plt.xlabel('Relative Importance')\n",
    "plt.show()\n",
    "\n",
    "test_df=pd.read_csv('test.csv',index_col='PassengerId')\n",
    "test_numeric_df = test_df.select_dtypes(include=[np.number]).fillna(0)\n",
    "X_test=test_numeric_df[['Pclass','Age','SibSp','Parch','Fare']]\n",
    "results=rf.predict(X_test)\n",
    "results = pd.Series(results, index = test_numeric_df.index)\n",
    "results.index.name = 'PassengerId'\n",
    "results.name = 'Survived'\n",
    "results.to_frame().to_csv('sample.csv')"
   ]
  },
  {
   "cell_type": "code",
   "execution_count": null,
   "metadata": {
    "collapsed": true
   },
   "outputs": [],
   "source": []
  }
 ],
 "metadata": {
  "kernelspec": {
   "display_name": "Python 2",
   "language": "python",
   "name": "python2"
  },
  "language_info": {
   "codemirror_mode": {
    "name": "ipython",
    "version": 2
   },
   "file_extension": ".py",
   "mimetype": "text/x-python",
   "name": "python",
   "nbconvert_exporter": "python",
   "pygments_lexer": "ipython2",
   "version": "2.7.13"
  }
 },
 "nbformat": 4,
 "nbformat_minor": 2
}
