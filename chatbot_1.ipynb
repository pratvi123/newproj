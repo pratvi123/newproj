{
 "cells": [
  {
   "cell_type": "code",
   "execution_count": 2,
   "metadata": {
    "collapsed": true
   },
   "outputs": [],
   "source": [
    "# things we need for NLP\n",
    "import nltk\n",
    "from nltk.stem.lancaster import LancasterStemmer\n",
    "stemmer=LancasterStemmer()\n",
    "\n",
    "# things we need for Tensorflow\n",
    "import numpy as np\n",
    "import os\n",
    "#import tflearn\n",
    "#import tensorflow as tf\n",
    "import random\n",
    "os.chdir(r\"F:\\training\\Projects\\contexual_chatbot\\chatbot1\")"
   ]
  },
  {
   "cell_type": "code",
   "execution_count": 3,
   "metadata": {},
   "outputs": [
    {
     "data": {
      "text/plain": [
       "{u'intents': [{u'context_set': u'',\n",
       "   u'patterns': [u'Hi',\n",
       "    u'How are you',\n",
       "    u'Is anyone there?',\n",
       "    u'Hello',\n",
       "    u'Good day'],\n",
       "   u'responses': [u'Hello, thanks for visiting',\n",
       "    u'Good to see you again',\n",
       "    u'Hi there, how can I help?'],\n",
       "   u'tag': u'greeting'},\n",
       "  {u'patterns': [u'Bye', u'See you later', u'Goodbye'],\n",
       "   u'responses': [u'See you later, thanks for visiting',\n",
       "    u'Have a nice day',\n",
       "    u'Bye! Come back again soon.'],\n",
       "   u'tag': u'goodbye'},\n",
       "  {u'patterns': [u'Thanks', u'Thank you', u\"That's helpful\"],\n",
       "   u'responses': [u'Happy to help!', u'Any time!', u'My pleasure'],\n",
       "   u'tag': u'thanks'},\n",
       "  {u'patterns': [u'What hours are you open?',\n",
       "    u'What are your hours?',\n",
       "    u'When are you open?'],\n",
       "   u'responses': [u\"We're open every day 9am-9pm\",\n",
       "    u'Our hours are 9am-9pm every day'],\n",
       "   u'tag': u'hours'},\n",
       "  {u'patterns': [u'Which mopeds do you have?',\n",
       "    u'What kinds of mopeds are there?',\n",
       "    u'What do you rent?'],\n",
       "   u'responses': [u'We rent Yamaha, Piaggio and Vespa mopeds',\n",
       "    u'We have Piaggio, Vespa and Yamaha mopeds'],\n",
       "   u'tag': u'mopeds'},\n",
       "  {u'patterns': [u'Do you take credit cards?',\n",
       "    u'Do you accept Mastercard?',\n",
       "    u'Are you cash only?'],\n",
       "   u'responses': [u'We accept VISA, Mastercard and AMEX',\n",
       "    u'We accept most major credit cards'],\n",
       "   u'tag': u'payments'},\n",
       "  {u'patterns': [u'Are you open today?',\n",
       "    u'When do you open today?',\n",
       "    u'What are your hours today?'],\n",
       "   u'responses': [u\"We're open every day from 9am-9pm\",\n",
       "    u'Our hours are 9am-9pm every day'],\n",
       "   u'tag': u'opentoday'},\n",
       "  {u'context_set': u'rentalday',\n",
       "   u'patterns': [u'Can we rent a moped?',\n",
       "    u\"I'd like to rent a moped\",\n",
       "    u'How does this work?'],\n",
       "   u'responses': [u'Are you looking to rent today or later this week?'],\n",
       "   u'tag': u'rental'},\n",
       "  {u'context_filter': u'rentalday',\n",
       "   u'patterns': [u'today'],\n",
       "   u'responses': [u'For rentals today please call 1-800-MYMOPED',\n",
       "    u'Same-day rentals please call 1-800-MYMOPED'],\n",
       "   u'tag': u'today'}]}"
      ]
     },
     "execution_count": 3,
     "metadata": {},
     "output_type": "execute_result"
    }
   ],
   "source": [
    "import json\n",
    "with open('intents.json') as json_data:\n",
    "    intents=json.load(json_data)\n",
    "intents\n",
    "#8660063617"
   ]
  },
  {
   "cell_type": "code",
   "execution_count": 4,
   "metadata": {},
   "outputs": [
    {
     "name": "stdout",
     "output_type": "stream",
     "text": [
      "(27, 'documents')\n",
      "(9, 'classes', [u'goodbye', u'greeting', u'hours', u'mopeds', u'opentoday', u'payments', u'rental', u'thanks', u'today'])\n",
      "(48, 'unique stemmed words', [u\"'d\", u\"'s\", u'a', u'acceiv', u'anyon', u'ar', u'bye', u'can', u'card', u'cash', u'credit', u'day', u'do', u'doe', u'good', u'goodby', u'hav', u'hello', u'help', u'hi', u'hour', u'how', u'i', u'is', u'kind', u'lat', u'lik', u'mastercard', u'mop', u'of', u'on', u'op', u'rent', u'see', u'tak', u'thank', u'that', u'ther', u'thi', u'to', u'today', u'we', u'what', u'when', u'which', u'work', u'yo', u'you'])\n"
     ]
    }
   ],
   "source": [
    "words = []\n",
    "classes = []\n",
    "documents = []\n",
    "ignore_words = ['?']\n",
    "# loop through each sentence in our intents patterns\n",
    "for intent in intents['intents']:\n",
    "    for pattern in intent['patterns']:\n",
    "        # tokenize each word in the sentence\n",
    "        w = nltk.word_tokenize(pattern)\n",
    "        # add to our words list\n",
    "        words.extend(w)\n",
    "        # add to documents in our corpus\n",
    "        documents.append((w, intent['tag']))\n",
    "        # add to our classes list\n",
    "        if intent['tag'] not in classes:\n",
    "            classes.append(intent['tag'])\n",
    "\n",
    "#print words\n",
    "#print documents\n",
    "#print classes\n",
    "# stem and lower each word and remove duplicates\n",
    "words = [stemmer.stem(w.lower()) for w in words if w not in ignore_words]\n",
    "words = sorted(list(set(words)))\n",
    "\n",
    "# remove duplicates\n",
    "classes = sorted(list(set(classes)))\n",
    "print (len(documents), \"documents\")\n",
    "print (len(classes), \"classes\", classes)\n",
    "print (len(words), \"unique stemmed words\", words)"
   ]
  },
  {
   "cell_type": "code",
   "execution_count": 5,
   "metadata": {},
   "outputs": [
    {
     "data": {
      "text/plain": [
       "[([u'Hi'], u'greeting'),\n",
       " ([u'How', u'are', u'you'], u'greeting'),\n",
       " ([u'Is', u'anyone', u'there', u'?'], u'greeting'),\n",
       " ([u'Hello'], u'greeting'),\n",
       " ([u'Good', u'day'], u'greeting'),\n",
       " ([u'Bye'], u'goodbye'),\n",
       " ([u'See', u'you', u'later'], u'goodbye'),\n",
       " ([u'Goodbye'], u'goodbye'),\n",
       " ([u'Thanks'], u'thanks'),\n",
       " ([u'Thank', u'you'], u'thanks'),\n",
       " ([u'That', u\"'s\", u'helpful'], u'thanks'),\n",
       " ([u'What', u'hours', u'are', u'you', u'open', u'?'], u'hours'),\n",
       " ([u'What', u'are', u'your', u'hours', u'?'], u'hours'),\n",
       " ([u'When', u'are', u'you', u'open', u'?'], u'hours'),\n",
       " ([u'Which', u'mopeds', u'do', u'you', u'have', u'?'], u'mopeds'),\n",
       " ([u'What', u'kinds', u'of', u'mopeds', u'are', u'there', u'?'], u'mopeds'),\n",
       " ([u'What', u'do', u'you', u'rent', u'?'], u'mopeds'),\n",
       " ([u'Do', u'you', u'take', u'credit', u'cards', u'?'], u'payments'),\n",
       " ([u'Do', u'you', u'accept', u'Mastercard', u'?'], u'payments'),\n",
       " ([u'Are', u'you', u'cash', u'only', u'?'], u'payments'),\n",
       " ([u'Are', u'you', u'open', u'today', u'?'], u'opentoday'),\n",
       " ([u'When', u'do', u'you', u'open', u'today', u'?'], u'opentoday'),\n",
       " ([u'What', u'are', u'your', u'hours', u'today', u'?'], u'opentoday'),\n",
       " ([u'Can', u'we', u'rent', u'a', u'moped', u'?'], u'rental'),\n",
       " ([u'I', u\"'d\", u'like', u'to', u'rent', u'a', u'moped'], u'rental'),\n",
       " ([u'How', u'does', u'this', u'work', u'?'], u'rental'),\n",
       " ([u'today'], u'today')]"
      ]
     },
     "execution_count": 5,
     "metadata": {},
     "output_type": "execute_result"
    }
   ],
   "source": [
    "documents"
   ]
  },
  {
   "cell_type": "code",
   "execution_count": 7,
   "metadata": {},
   "outputs": [
    {
     "data": {
      "text/plain": [
       "[[1, 0, 0, 0, 0, 0, 0, 0, 0],\n",
       " [0, 0, 0, 0, 0, 0, 1, 0, 0],\n",
       " [0, 0, 0, 0, 1, 0, 0, 0, 0],\n",
       " [0, 1, 0, 0, 0, 0, 0, 0, 0],\n",
       " [0, 0, 0, 0, 0, 0, 0, 0, 1],\n",
       " [0, 0, 0, 0, 0, 0, 0, 1, 0],\n",
       " [1, 0, 0, 0, 0, 0, 0, 0, 0],\n",
       " [0, 0, 1, 0, 0, 0, 0, 0, 0],\n",
       " [0, 1, 0, 0, 0, 0, 0, 0, 0],\n",
       " [0, 0, 0, 1, 0, 0, 0, 0, 0],\n",
       " [0, 0, 0, 0, 0, 0, 1, 0, 0],\n",
       " [0, 0, 0, 0, 0, 1, 0, 0, 0],\n",
       " [0, 0, 0, 0, 0, 0, 0, 1, 0],\n",
       " [0, 1, 0, 0, 0, 0, 0, 0, 0],\n",
       " [0, 0, 1, 0, 0, 0, 0, 0, 0],\n",
       " [0, 0, 0, 1, 0, 0, 0, 0, 0],\n",
       " [0, 0, 0, 0, 0, 1, 0, 0, 0],\n",
       " [0, 0, 1, 0, 0, 0, 0, 0, 0],\n",
       " [0, 1, 0, 0, 0, 0, 0, 0, 0],\n",
       " [0, 0, 0, 0, 0, 0, 0, 1, 0],\n",
       " [0, 0, 0, 0, 0, 0, 1, 0, 0],\n",
       " [0, 0, 0, 0, 0, 1, 0, 0, 0],\n",
       " [0, 0, 0, 0, 1, 0, 0, 0, 0],\n",
       " [0, 0, 0, 0, 1, 0, 0, 0, 0],\n",
       " [0, 1, 0, 0, 0, 0, 0, 0, 0],\n",
       " [0, 0, 0, 1, 0, 0, 0, 0, 0],\n",
       " [1, 0, 0, 0, 0, 0, 0, 0, 0]]"
      ]
     },
     "execution_count": 7,
     "metadata": {},
     "output_type": "execute_result"
    }
   ],
   "source": [
    "# create our training data\n",
    "training = []\n",
    "output = []\n",
    "# create an empty array for our output\n",
    "output_empty = [0] * len(classes)\n",
    "for doc in documents:\n",
    "    # initialize our bag of words\n",
    "    bag = []\n",
    "    # list of tokenized words for the pattern\n",
    "    pattern_words = doc[0]\n",
    "    for w in words:\n",
    "        bag.append(1) if w in pattern_words else bag.append(0)\n",
    "    # output is a '0' for each tag and '1' for current tag\n",
    "    output_row = list(output_empty)\n",
    "    output_row[classes.index(doc[1])] = 1\n",
    "    training.append([bag, output_row])\n",
    "# shuffle our features and turn into np.array\n",
    "random.shuffle(training)\n",
    "training = np.array(training)\n",
    "\n",
    "# create train and test lists\n",
    "X_train = list(training[:,0])\n",
    "Y_train = list(training[:,1])\n",
    "Y_train"
   ]
  },
  {
   "cell_type": "code",
   "execution_count": 11,
   "metadata": {},
   "outputs": [
    {
     "name": "stderr",
     "output_type": "stream",
     "text": [
      "C:\\Anaconda\\lib\\site-packages\\sklearn\\utils\\validation.py:395: DeprecationWarning: Passing 1d arrays as data is deprecated in 0.17 and will raise ValueError in 0.19. Reshape your data either using X.reshape(-1, 1) if your data has a single feature or X.reshape(1, -1) if it contains a single sample.\n",
      "  DeprecationWarning)\n"
     ]
    },
    {
     "data": {
      "text/plain": [
       "array([[0, 0, 0, 0, 0, 0, 1, 0, 0]])"
      ]
     },
     "execution_count": 11,
     "metadata": {},
     "output_type": "execute_result"
    }
   ],
   "source": [
    "from sklearn.neural_network import MLPClassifier\n",
    "from sklearn.metrics import classification_report,confusion_matrix\n",
    "mlp=MLPClassifier(hidden_layer_sizes=(20,20))\n",
    "mlp.fit(X_train,Y_train)\n",
    "mlp.predict(X_train[10])"
   ]
  },
  {
   "cell_type": "code",
   "execution_count": 13,
   "metadata": {},
   "outputs": [
    {
     "data": {
      "text/plain": [
       "[[1, 0, 0, 0, 0, 0, 0, 0, 0],\n",
       " [0, 0, 0, 0, 0, 0, 1, 0, 0],\n",
       " [0, 0, 0, 0, 1, 0, 0, 0, 0],\n",
       " [0, 1, 0, 0, 0, 0, 0, 0, 0],\n",
       " [0, 0, 0, 0, 0, 0, 0, 0, 1],\n",
       " [0, 0, 0, 0, 0, 0, 0, 1, 0],\n",
       " [1, 0, 0, 0, 0, 0, 0, 0, 0],\n",
       " [0, 0, 1, 0, 0, 0, 0, 0, 0],\n",
       " [0, 1, 0, 0, 0, 0, 0, 0, 0],\n",
       " [0, 0, 0, 1, 0, 0, 0, 0, 0],\n",
       " [0, 0, 0, 0, 0, 0, 1, 0, 0],\n",
       " [0, 0, 0, 0, 0, 1, 0, 0, 0],\n",
       " [0, 0, 0, 0, 0, 0, 0, 1, 0],\n",
       " [0, 1, 0, 0, 0, 0, 0, 0, 0],\n",
       " [0, 0, 1, 0, 0, 0, 0, 0, 0],\n",
       " [0, 0, 0, 1, 0, 0, 0, 0, 0],\n",
       " [0, 0, 0, 0, 0, 1, 0, 0, 0],\n",
       " [0, 0, 1, 0, 0, 0, 0, 0, 0],\n",
       " [0, 1, 0, 0, 0, 0, 0, 0, 0],\n",
       " [0, 0, 0, 0, 0, 0, 0, 1, 0],\n",
       " [0, 0, 0, 0, 0, 0, 1, 0, 0],\n",
       " [0, 0, 0, 0, 0, 1, 0, 0, 0],\n",
       " [0, 0, 0, 0, 1, 0, 0, 0, 0],\n",
       " [0, 0, 0, 0, 1, 0, 0, 0, 0],\n",
       " [0, 1, 0, 0, 0, 0, 0, 0, 0],\n",
       " [0, 0, 0, 1, 0, 0, 0, 0, 0],\n",
       " [1, 0, 0, 0, 0, 0, 0, 0, 0]]"
      ]
     },
     "execution_count": 13,
     "metadata": {},
     "output_type": "execute_result"
    }
   ],
   "source": [
    "classes\n",
    "Y_train"
   ]
  },
  {
   "cell_type": "code",
   "execution_count": 14,
   "metadata": {},
   "outputs": [
    {
     "data": {
      "text/plain": [
       "[1,\n",
       " 0,\n",
       " 1,\n",
       " 0,\n",
       " 0,\n",
       " 0,\n",
       " 0,\n",
       " 0,\n",
       " 0,\n",
       " 0,\n",
       " 0,\n",
       " 0,\n",
       " 0,\n",
       " 0,\n",
       " 0,\n",
       " 0,\n",
       " 0,\n",
       " 0,\n",
       " 0,\n",
       " 0,\n",
       " 0,\n",
       " 0,\n",
       " 0,\n",
       " 0,\n",
       " 0,\n",
       " 0,\n",
       " 0,\n",
       " 0,\n",
       " 0,\n",
       " 0,\n",
       " 0,\n",
       " 0,\n",
       " 1,\n",
       " 0,\n",
       " 0,\n",
       " 0,\n",
       " 0,\n",
       " 0,\n",
       " 0,\n",
       " 1,\n",
       " 0,\n",
       " 0,\n",
       " 0,\n",
       " 0,\n",
       " 0,\n",
       " 0,\n",
       " 0,\n",
       " 0]"
      ]
     },
     "execution_count": 14,
     "metadata": {},
     "output_type": "execute_result"
    }
   ],
   "source": [
    "X_train[10]"
   ]
  },
  {
   "cell_type": "code",
   "execution_count": null,
   "metadata": {
    "collapsed": true
   },
   "outputs": [],
   "source": []
  }
 ],
 "metadata": {
  "kernelspec": {
   "display_name": "Python 2",
   "language": "python",
   "name": "python2"
  },
  "language_info": {
   "codemirror_mode": {
    "name": "ipython",
    "version": 2
   },
   "file_extension": ".py",
   "mimetype": "text/x-python",
   "name": "python",
   "nbconvert_exporter": "python",
   "pygments_lexer": "ipython2",
   "version": "2.7.13"
  }
 },
 "nbformat": 4,
 "nbformat_minor": 1
}
